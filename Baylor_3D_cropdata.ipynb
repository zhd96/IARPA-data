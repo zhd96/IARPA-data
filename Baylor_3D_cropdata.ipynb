{
 "cells": [
  {
   "cell_type": "code",
   "execution_count": 4,
   "metadata": {},
   "outputs": [
    {
     "name": "stdout",
     "output_type": "stream",
     "text": [
      "The autoreload extension is already loaded. To reload it, use:\n",
      "  %reload_ext autoreload\n"
     ]
    }
   ],
   "source": [
    "import os\n",
    "import sys\n",
    "import mmap\n",
    "import time\n",
    "import cv2\n",
    "\n",
    "sys.path.append(\"/Users/zhd/packages/CaImAn/\")\n",
    "import matplotlib.pyplot as plt\n",
    "import numpy as np\n",
    "import superpixel_analysis as sup\n",
    "\n",
    "from mpl_toolkits.axes_grid1 import make_axes_locatable\n",
    "\n",
    "%load_ext autoreload\n",
    "%autoreload 2\n",
    "%matplotlib inline"
   ]
  },
  {
   "cell_type": "code",
   "execution_count": 5,
   "metadata": {
    "collapsed": true
   },
   "outputs": [],
   "source": [
    "data_dir = \"/Users/zhd/Desktop/Research/Project/IARPA data/data/\""
   ]
  },
  {
   "cell_type": "code",
   "execution_count": 6,
   "metadata": {
    "collapsed": true
   },
   "outputs": [],
   "source": [
    "out_dir='/Users/zhd/Desktop/Research/Project/IARPA data/result/try4/'"
   ]
  },
  {
   "cell_type": "code",
   "execution_count": 7,
   "metadata": {
    "collapsed": true
   },
   "outputs": [],
   "source": [
    "Yd1 = np.load(data_dir + 'scan1_block1_gpca_p1.npz')[\"data\"]\n",
    "Yd2 = np.load(data_dir + 'scan1_block1_gpca_p2.npz')[\"data\"]\n",
    "Yd3 = np.load(data_dir + 'scan1_block1_gpca_p3.npz')[\"data\"]"
   ]
  },
  {
   "cell_type": "code",
   "execution_count": 8,
   "metadata": {
    "collapsed": true,
    "scrolled": true
   },
   "outputs": [],
   "source": [
    "Yd = np.concatenate([Yd1, Yd2, Yd3],axis=1)"
   ]
  },
  {
   "cell_type": "code",
   "execution_count": 9,
   "metadata": {
    "collapsed": true
   },
   "outputs": [],
   "source": [
    "del(Yd1,Yd2,Yd3)"
   ]
  },
  {
   "cell_type": "code",
   "execution_count": 10,
   "metadata": {
    "collapsed": true
   },
   "outputs": [],
   "source": [
    "dims = Yd.shape;\n",
    "num_plane = 3;"
   ]
  },
  {
   "cell_type": "markdown",
   "metadata": {},
   "source": [
    "# full pipeline"
   ]
  },
  {
   "cell_type": "code",
   "execution_count": null,
   "metadata": {
    "collapsed": true
   },
   "outputs": [],
   "source": [
    "start=time.time()\n",
    "rlt_nmf = sup.axon_pipeline_Y(Yd[:,:,:], cut_off_point=[0.92,0.87,0.82], length_cut=[10,10,10], th=[2,1,0],pass_num=3,\n",
    "                residual_cut = [0.6,0.6,0.6],corr_th_fix=0.2,max_allow_neuron_size=0.3,merge_corr_thr=0.6,merge_overlap_thr=0.6, num_plane=3, \n",
    "                patch_size=[100,100],plot_en=True, TF=False, fudge_factor=1, text=True,bg=4,max_iter=5,max_iter_fin=5,\n",
    "                update_after=2)\n",
    "print(time.time()-start)"
   ]
  },
  {
   "cell_type": "code",
   "execution_count": 36,
   "metadata": {
    "collapsed": true
   },
   "outputs": [],
   "source": [
    "np.save(out_dir + \"rlt_Yd_3pass.npy\", rlt_nmf)"
   ]
  },
  {
   "cell_type": "code",
   "execution_count": 10,
   "metadata": {
    "collapsed": true
   },
   "outputs": [],
   "source": [
    "rltk = rlt_nmf[\"fin_rlt\"].copy()"
   ]
  },
  {
   "cell_type": "code",
   "execution_count": 16,
   "metadata": {
    "scrolled": true
   },
   "outputs": [
    {
     "name": "stderr",
     "output_type": "stream",
     "text": [
      "IOPub data rate exceeded.\n",
      "The notebook server will temporarily stop sending output\n",
      "to the client in order to avoid crashing it.\n",
      "To change this limit, set the config variable\n",
      "`--NotebookApp.iopub_data_rate_limit`.\n"
     ]
    }
   ],
   "source": [
    "fig = sup.spatial_comp_plot(rltk[\"a\"][:,:], rltk[\"corr_img_all_r\"][:,:,:]);\n",
    "fig.savefig(out_dir + \"spatial_Yd_2pass.pdf\")"
   ]
  },
  {
   "cell_type": "code",
   "execution_count": 17,
   "metadata": {},
   "outputs": [
    {
     "name": "stderr",
     "output_type": "stream",
     "text": [
      "IOPub data rate exceeded.\n",
      "The notebook server will temporarily stop sending output\n",
      "to the client in order to avoid crashing it.\n",
      "To change this limit, set the config variable\n",
      "`--NotebookApp.iopub_data_rate_limit`.\n"
     ]
    }
   ],
   "source": [
    "fig = sup.temporal_compare_plot(rltk[\"c\"][:,:], rltk[\"c_tf\"][:,:]);\n",
    "fig.savefig(out_dir + \"temporal_Yd_2pass.pdf\")"
   ]
  },
  {
   "cell_type": "code",
   "execution_count": null,
   "metadata": {
    "collapsed": true
   },
   "outputs": [],
   "source": []
  }
 ],
 "metadata": {
  "kernelspec": {
   "display_name": "Python 3",
   "language": "python",
   "name": "python3"
  },
  "language_info": {
   "codemirror_mode": {
    "name": "ipython",
    "version": 3
   },
   "file_extension": ".py",
   "mimetype": "text/x-python",
   "name": "python",
   "nbconvert_exporter": "python",
   "pygments_lexer": "ipython3",
   "version": "3.6.3"
  }
 },
 "nbformat": 4,
 "nbformat_minor": 2
}
