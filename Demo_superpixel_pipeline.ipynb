{
 "cells": [
  {
   "cell_type": "code",
   "execution_count": 1,
   "metadata": {
    "collapsed": true
   },
   "outputs": [],
   "source": [
    "%load_ext autoreload\n",
    "%autoreload 2\n",
    "%matplotlib inline\n",
    "\n",
    "import time\n",
    "import matplotlib.pyplot as plt\n",
    "import numpy as np\n",
    "import superpixel_analysis as sup"
   ]
  },
  {
   "cell_type": "code",
   "execution_count": 2,
   "metadata": {},
   "outputs": [
    {
     "name": "stdout",
     "output_type": "stream",
     "text": [
      "(60, 80, 2000)\n"
     ]
    }
   ],
   "source": [
    "from skimage import io\n",
    "mov = io.imread('example_movies/demoMovie.tif').transpose([1,2,0])\n",
    "print(mov.shape)"
   ]
  },
  {
   "cell_type": "markdown",
   "metadata": {},
   "source": [
    "## if input is whole data mov"
   ]
  },
  {
   "cell_type": "code",
   "execution_count": 3,
   "metadata": {
    "scrolled": true
   },
   "outputs": [
    {
     "name": "stdout",
     "output_type": "stream",
     "text": [
      "start 1 pass!\n",
      "find superpixels!\n",
      "0.3047041893005371\n",
      "rank 1 svd!\n",
      "0.1860949993133545\n",
      "find pure superpixels!\n",
      "0.05410885810852051\n",
      "prepare iteration!\n",
      "0.05982470512390137\n",
      "0.2507450580596924\n",
      "start 1 pass iteration!\n",
      "time: 0.08736300468444824\n",
      "time: 0.09908604621887207\n",
      "time: 0.08909106254577637\n",
      "no merge!\n",
      "time: 0.19878482818603516\n",
      "time: 0.08559274673461914\n",
      "time: 0.08452200889587402\n",
      "time: 0.10380268096923828\n",
      "no merge!\n",
      "time: 0.2044370174407959\n",
      "time: 0.09194397926330566\n",
      "time: 0.08555126190185547\n",
      "time: 0.08578205108642578\n",
      "no merge!\n",
      "corr too low!\n",
      "corr too low!\n",
      "time: 0.24342894554138184\n",
      "time: 0.08908605575561523\n",
      "time: 0.08608365058898926\n",
      "time: 0.09596419334411621\n",
      "no merge!\n",
      "corr too low!\n"
     ]
    },
    {
     "name": "stderr",
     "output_type": "stream",
     "text": [
      "/Users/zhd/anaconda3/lib/python3.6/site-packages/scipy/sparse/base.py:484: RuntimeWarning: invalid value encountered in true_divide\n",
      "  return np.true_divide(self.todense(), other)\n",
      "/Users/zhd/Desktop/Research/Project/IARPA data/code/push/cocaim/superpixel_analysis.py:2027: RuntimeWarning: invalid value encountered in greater\n",
      "  cri = np.asarray((cor_corr/(temp.T)) > merge_overlap_thr)*np.asarray((cor_corr/temp) > merge_overlap_thr)*((a_corr>0).toarray());#.toarray())*(((cor_corr/(temp.T)) > merge_overlap_thr).toarray())*((a_corr > 0).toarray());\n"
     ]
    },
    {
     "name": "stdout",
     "output_type": "stream",
     "text": [
      "corr too low!\n",
      "corr too low!\n",
      "corr too low!\n",
      "time: 0.21310687065124512\n",
      "time: 0.09654378890991211\n",
      "time: 0.09241795539855957\n",
      "time: 0.09711194038391113\n",
      "no merge!\n",
      "corr too low!\n",
      "corr too low!\n",
      "corr too low!\n",
      "time: 0.1907510757446289\n",
      "time: 0.09461832046508789\n",
      "time: 0.1093137264251709\n",
      "time: 0.11295890808105469\n",
      "no merge!\n",
      "corr too low!\n",
      "corr too low!\n",
      "corr too low!\n",
      "corr too low!\n",
      "time: 0.2474968433380127\n",
      "time: 0.10883307456970215\n",
      "time: 0.10938692092895508\n",
      "time: 0.09718799591064453\n",
      "no merge!\n",
      "corr too low!\n",
      "corr too low!\n",
      "corr too low!\n",
      "corr too low!\n",
      "time: 0.23427605628967285\n",
      "time: 0.0938880443572998\n",
      "time: 0.09402203559875488\n",
      "time: 0.10561800003051758\n",
      "no merge!\n",
      "corr too low!\n",
      "corr too low!\n",
      "corr too low!\n",
      "time: 0.23033499717712402\n",
      "time: 0.10458970069885254\n",
      "time: 0.11938786506652832\n",
      "time: 0.11018800735473633\n",
      "no merge!\n",
      "corr too low!\n",
      "corr too low!\n",
      "corr too low!\n",
      "corr too low!\n",
      "corr too low!\n",
      "time: 0.20832514762878418\n",
      "time: 0.0908517837524414\n",
      "time: 0.09248089790344238\n",
      "time: 0.09354186058044434\n",
      "no merge!\n",
      "corr too low!\n",
      "corr too low!\n",
      "corr too low!\n",
      "corr too low!\n",
      "time: 0.23835325241088867\n",
      "time: 0.08980202674865723\n",
      "time: 0.08614563941955566\n",
      "time: 0.0993642807006836\n",
      "no merge!\n",
      "corr too low!\n",
      "corr too low!\n",
      "corr too low!\n",
      "time: 0.25789904594421387\n",
      "time: 0.09784722328186035\n",
      "time: 0.08935379981994629\n",
      "time: 0.0948798656463623\n",
      "no merge!\n",
      "corr too low!\n",
      "corr too low!\n",
      "corr too low!\n",
      "corr too low!\n",
      "corr too low!\n",
      "time: 0.22205400466918945\n",
      "time: 0.11411499977111816\n",
      "time: 0.09523391723632812\n",
      "6.4959728717803955\n"
     ]
    }
   ],
   "source": [
    "rlt=sup.axon_pipeline_Y(mov, cut_off_point=[0.8], length_cut=[10], th=[2], pass_num=1,\n",
    "                    residual_cut = [0.6], corr_th_fix=0.31, max_allow_neuron_size=0.3,\n",
    "                    merge_corr_thr=0.6, merge_overlap_thr=0.6, num_plane=1, patch_size=[100,100],\n",
    "                    plot_en=False, TF=True, fudge_factor=1, text=True, bg=False,\n",
    "                    max_iter=35, max_iter_fin=50, update_after=4)"
   ]
  },
  {
   "cell_type": "code",
   "execution_count": 4,
   "metadata": {},
   "outputs": [
    {
     "data": {
      "image/png": "[encoded data removed]",
      "text/plain": [
       "<matplotlib.figure.Figure at 0x1256ea390>"
      ]
     },
     "metadata": {},
     "output_type": "display_data"
    }
   ],
   "source": [
    "sup.pure_superpixel_single_plot(rlt[\"superpixel_rlt\"][0][\"connect_mat_1\"],\n",
    "                                rlt[\"superpixel_rlt\"][0][\"pure_pix\"],\n",
    "                                rlt[\"superpixel_rlt\"][0][\"brightness_rank\"],text=True);"
   ]
  },
  {
   "cell_type": "code",
   "execution_count": 5,
   "metadata": {
    "scrolled": true
   },
   "outputs": [
    {
     "data": {
      "image/png": "[encoded data removed]",
      "text/plain": [
       "<matplotlib.figure.Figure at 0x10f150278>"
      ]
     },
     "metadata": {},
     "output_type": "display_data"
    }
   ],
   "source": [
    "sup.spatial_sum_plot_single((rlt[\"fin_rlt\"][\"a\"]),mov.shape[:2],text=True);"
   ]
  },
  {
   "cell_type": "markdown",
   "metadata": {},
   "source": [
    "## if input is U, V -- low rank decomposition of mov"
   ]
  },
  {
   "cell_type": "code",
   "execution_count": null,
   "metadata": {
    "collapsed": true
   },
   "outputs": [],
   "source": [
    "rlt=sup.axon_pipeline(mov, U, V, cut_off_point=[0.8], length_cut=[10], th=[2], pass_num=1,\n",
    "                    residual_cut = [0.6], corr_th_fix=0.31, max_allow_neuron_size=0.3,\n",
    "                    merge_corr_thr=0.6, merge_overlap_thr=0.6, num_plane=1, patch_size=[100,100],\n",
    "                    plot_en=False, TF=True, fudge_factor=1, text=True, bg=False,\n",
    "                    max_iter=35, max_iter_fin=50, update_after=4)"
   ]
  }
 ],
 "metadata": {
  "kernelspec": {
   "display_name": "Python 3",
   "language": "python",
   "name": "python3"
  },
  "language_info": {
   "codemirror_mode": {
    "name": "ipython",
    "version": 3
   },
   "file_extension": ".py",
   "mimetype": "text/x-python",
   "name": "python",
   "nbconvert_exporter": "python",
   "pygments_lexer": "ipython3",
   "version": "3.6.3"
  }
 },
 "nbformat": 4,
 "nbformat_minor": 2
}
