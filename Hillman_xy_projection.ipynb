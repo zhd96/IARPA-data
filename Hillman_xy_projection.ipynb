{
 "cells": [
  {
   "cell_type": "code",
   "execution_count": 16,
   "metadata": {},
   "outputs": [
    {
     "name": "stdout",
     "output_type": "stream",
     "text": [
      "The autoreload extension is already loaded. To reload it, use:\n",
      "  %reload_ext autoreload\n"
     ]
    }
   ],
   "source": [
    "import os\n",
    "import sys\n",
    "import mmap\n",
    "\n",
    "sys.path.append(\"/Users/zhd/packages/CaImAn/\")\n",
    "sys.path.append(\"/Users/zhd/packages/develop/voltagedenoising/\")\n",
    "sys.path.append(\"/Users/zhd/Desktop/Research/Project/Dendritic data/code/\")\n",
    "import matplotlib.pyplot as plt\n",
    "%matplotlib inline\n",
    "import numpy as np\n",
    "#import scipy as sp\n",
    "import superpixel_analysis as sup\n",
    "import filter_data as fdata\n",
    "import caiman as cm\n",
    "import time\n",
    "\n",
    "%load_ext autoreload\n",
    "%autoreload 2"
   ]
  },
  {
   "cell_type": "code",
   "execution_count": 10,
   "metadata": {
    "collapsed": true
   },
   "outputs": [],
   "source": [
    "data_dir = \"/Users/zhd/Desktop/Research/Project/MIP data/data/\""
   ]
  },
  {
   "cell_type": "code",
   "execution_count": 11,
   "metadata": {
    "collapsed": true
   },
   "outputs": [],
   "source": [
    "out_dir = \"/Users/zhd/Desktop/Research/Project/MIP data/result/try4/\""
   ]
  },
  {
   "cell_type": "code",
   "execution_count": 4,
   "metadata": {},
   "outputs": [
    {
     "name": "stdout",
     "output_type": "stream",
     "text": [
      "['#refs#', 'MIP_xy', 'MIP_yz', 'info', 'processing']\n"
     ]
    }
   ],
   "source": [
    "import h5py\n",
    "with h5py.File(data_dir + \"MIP_xy_and_yz_mouse17_run3_1_forliam.mat\", 'r') as f:\n",
    "    print(list(f.keys()))\n",
    "    MIP_yz =f['MIP_yz'][()];\n",
    "    MIP_xy =f['MIP_xy'][()];"
   ]
  },
  {
   "cell_type": "code",
   "execution_count": 5,
   "metadata": {
    "collapsed": true
   },
   "outputs": [],
   "source": [
    "MIP_yz = MIP_yz.transpose([1,2,0])\n",
    "MIP_xy = MIP_xy.transpose([1,2,0])"
   ]
  },
  {
   "cell_type": "code",
   "execution_count": 7,
   "metadata": {
    "collapsed": true
   },
   "outputs": [],
   "source": [
    "from skimage.external.tifffile import imsave\n",
    "imsave('MIP_xy_564_140_-750.tif', cm.movie(MIP_xy.transpose([2,0,1])))"
   ]
  },
  {
   "cell_type": "code",
   "execution_count": 12,
   "metadata": {
    "collapsed": true,
    "scrolled": true
   },
   "outputs": [],
   "source": [
    "fname_short= 'MIP_xy_564_140_-750.tif'\n",
    "fname =[fname_short]\n",
    "#cm.movie(MIP_xy.transpose([2,0,1])).save(fname_short)\n",
    "#fname_new = cm.save_memmap([os.path.split(fname_short)[1]], base_name='Yr1', is_3D=False)\n",
    "# check directory\n",
    "#fname_short= 'Yr1_d1_160_d2_160_d3_1_order_F_frames_5000_.mmap'"
   ]
  },
  {
   "cell_type": "markdown",
   "metadata": {},
   "source": [
    "# Motion correction"
   ]
  },
  {
   "cell_type": "code",
   "execution_count": 9,
   "metadata": {
    "scrolled": false
   },
   "outputs": [
    {
     "name": "stderr",
     "output_type": "stream",
     "text": [
      "100%|██████████| 1/1 [00:00<00:00,  2.35it/s]\n"
     ]
    }
   ],
   "source": [
    "fname =[fname_short]\n",
    "m_orig = cm.load_movie_chain(fname)\n",
    "downsample_ratio = .2  # motion can be perceived better when downsampling in time\n",
    "offset_mov = 0;#np.min(m_orig);  # if the data has very negative values compute an offset value"
   ]
  },
  {
   "cell_type": "code",
   "execution_count": 10,
   "metadata": {
    "collapsed": true
   },
   "outputs": [],
   "source": [
    "niter_rig = 1        # number of iterations for rigid motion correction\n",
    "max_shifts = (2, 2)  # maximum allowed rigid shift in pixels (view the movie to get a sense of motion)\n",
    "splits_rig =  10     # for parallelization split the movies in  num_splits chuncks across time\n",
    "                     # if none all the splits are processed and the movie is saved\n",
    "#num_splits_to_process_rig = None  # intervals at which patches are laid out for motion correction\n",
    "strides =  (24, 24)  # create a new patch every x pixels for pw-rigid correction\n",
    "overlaps = (12, 12)  # overlap between pathes (size of patch strides+overlaps)\n",
    "splits_els =  10     # for parallelization split the movies in  num_splits chuncks across time\n",
    "#num_splits_to_process_els = [28, None]\n",
    "upsample_factor_grid = 4  # upsample factor to avoid smearing when merging patches\n",
    "max_deviation_rigid = 3   # maximum deviation allowed for patch with respect to rigid shifts"
   ]
  },
  {
   "cell_type": "code",
   "execution_count": 11,
   "metadata": {
    "collapsed": true
   },
   "outputs": [],
   "source": [
    "dview=None"
   ]
  },
  {
   "cell_type": "code",
   "execution_count": 12,
   "metadata": {
    "collapsed": true
   },
   "outputs": [],
   "source": [
    "# create a motion correction object\n",
    "from caiman.motion_correction import MotionCorrect, tile_and_correct, motion_correction_piecewise\n",
    "\n",
    "mc = MotionCorrect(fname[0], offset_mov,\n",
    "                   dview = dview, max_shifts = max_shifts, niter_rig = niter_rig,\n",
    "                   splits_rig = splits_rig, \n",
    "                   strides = strides, overlaps= overlaps, splits_els = splits_els,\n",
    "                   upsample_factor_grid = upsample_factor_grid,\n",
    "                   max_deviation_rigid = max_deviation_rigid, \n",
    "                   shifts_opencv = True, nonneg_movie = True)"
   ]
  },
  {
   "cell_type": "code",
   "execution_count": null,
   "metadata": {
    "collapsed": true
   },
   "outputs": [],
   "source": [
    "mc.motion_correct_rigid(save_movie=True)\n",
    "# load motion corrected movie\n",
    "m_rig = cm.load(mc.fname_tot_rig)\n",
    "bord_px_rig = np.ceil(np.max(mc.shifts_rig)).astype(np.int)\n",
    "#%% visualize templates\n",
    "plt.figure(figsize = (20,10))\n",
    "plt.imshow(mc.total_template_rig, cmap = 'gray')"
   ]
  },
  {
   "cell_type": "code",
   "execution_count": null,
   "metadata": {
    "collapsed": true
   },
   "outputs": [],
   "source": [
    "#%% plot rigid shifts\n",
    "plt.close()\n",
    "plt.figure(figsize = (20,10))\n",
    "plt.plot(mc.shifts_rig)\n",
    "plt.legend(['x shifts','y shifts'])\n",
    "plt.xlabel('frames')\n",
    "plt.ylabel('pixels')"
   ]
  },
  {
   "cell_type": "code",
   "execution_count": null,
   "metadata": {
    "collapsed": true
   },
   "outputs": [],
   "source": [
    "#%%capture\n",
    "#%% motion correct piecewise rigid\n",
    "mc.motion_correct_pwrigid(save_movie=True, template=mc.total_template_rig)\n",
    "m_els = cm.load(mc.fname_tot_els)\n",
    "m_els.resize(1, 1, downsample_ratio).play(\n",
    "    gain=1, offset = 0, fr=30, magnification=1,bord_px = bord_px_rig)"
   ]
  },
  {
   "cell_type": "code",
   "execution_count": null,
   "metadata": {
    "collapsed": true
   },
   "outputs": [],
   "source": [
    "#%% visualize elastic shifts\n",
    "plt.close()\n",
    "plt.figure(figsize = (20,10))\n",
    "plt.subplot(2, 1, 1)\n",
    "plt.plot(mc.x_shifts_els)\n",
    "plt.ylabel('x shifts (pixels)')\n",
    "plt.subplot(2, 1, 2)\n",
    "plt.plot(mc.y_shifts_els)\n",
    "plt.ylabel('y_shifts (pixels)')\n",
    "plt.xlabel('frames')\n",
    "#%% compute borders to exclude\n",
    "bord_px_els = np.ceil(np.maximum(np.max(np.abs(mc.x_shifts_els)),\n",
    "                                 np.max(np.abs(mc.y_shifts_els)))).astype(np.int)"
   ]
  },
  {
   "cell_type": "markdown",
   "metadata": {},
   "source": [
    "## save MC results"
   ]
  },
  {
   "cell_type": "code",
   "execution_count": 114,
   "metadata": {},
   "outputs": [
    {
     "data": {
      "text/plain": [
       "'MIP_xy_564_140_-750'"
      ]
     },
     "execution_count": 114,
     "metadata": {},
     "output_type": "execute_result"
    }
   ],
   "source": [
    "fname[0][:-4]"
   ]
  },
  {
   "cell_type": "code",
   "execution_count": 130,
   "metadata": {
    "collapsed": true,
    "scrolled": true
   },
   "outputs": [],
   "source": [
    "np.save(data_dir + fname[0][:-4]+'_rig.npy',np.array(m_rig.transpose(1,2,0)))"
   ]
  },
  {
   "cell_type": "code",
   "execution_count": 131,
   "metadata": {},
   "outputs": [
    {
     "data": {
      "text/plain": [
       "(564, 140, 750)"
      ]
     },
     "execution_count": 131,
     "metadata": {},
     "output_type": "execute_result"
    }
   ],
   "source": [
    "m_rig.shape"
   ]
  },
  {
   "cell_type": "code",
   "execution_count": 132,
   "metadata": {
    "collapsed": true
   },
   "outputs": [],
   "source": [
    "np.save(data_dir + fname[0][:-4]+'_els.npy',np.array(m_els.transpose(1,2,0)))"
   ]
  },
  {
   "cell_type": "code",
   "execution_count": 133,
   "metadata": {},
   "outputs": [
    {
     "data": {
      "text/plain": [
       "(564, 140, 750)"
      ]
     },
     "execution_count": 133,
     "metadata": {},
     "output_type": "execute_result"
    }
   ],
   "source": [
    "m_els.shape"
   ]
  },
  {
   "cell_type": "markdown",
   "metadata": {},
   "source": [
    "# High pass filter and Wiener filter"
   ]
  },
  {
   "cell_type": "code",
   "execution_count": 5,
   "metadata": {
    "collapsed": true
   },
   "outputs": [],
   "source": [
    "m_rig = np.load(data_dir + fname[0][:-4]+'_rig.npy')"
   ]
  },
  {
   "cell_type": "code",
   "execution_count": null,
   "metadata": {
    "collapsed": true
   },
   "outputs": [],
   "source": [
    "## check trend ##\n",
    "plt.plot(m_rig[20,300,:])"
   ]
  },
  {
   "cell_type": "code",
   "execution_count": 7,
   "metadata": {
    "collapsed": true
   },
   "outputs": [],
   "source": [
    "dims = m_rig.shape\n",
    "m_rig_r= m_rig.reshape((np.prod(dims[:2]),dims[2]),order='F')\n",
    "\n",
    "# get rid of trend\n",
    "if True:\n",
    "    fs = 10000.0\n",
    "    cutoff = 150\n",
    "    order = 1\n",
    "    Y_detr = tfd.butter_highpass(m_rig_r, cutoff, fs, order)\n",
    "    offset_1= m_rig_r-Y_detr\n",
    "    Y_detr = Y_detr.reshape(dims,order=\"F\")"
   ]
  },
  {
   "cell_type": "code",
   "execution_count": null,
   "metadata": {
    "collapsed": true
   },
   "outputs": [],
   "source": [
    "plt.plot(offset_1[:6,:].T);"
   ]
  },
  {
   "cell_type": "code",
   "execution_count": null,
   "metadata": {
    "collapsed": true
   },
   "outputs": [],
   "source": [
    "plt.plot(Y_detr[:,:,:].mean(axis=0).mean(axis=0))"
   ]
  },
  {
   "cell_type": "code",
   "execution_count": null,
   "metadata": {
    "collapsed": true
   },
   "outputs": [],
   "source": [
    "plt.plot(Y_detr[20,350,:])"
   ]
  },
  {
   "cell_type": "code",
   "execution_count": 194,
   "metadata": {
    "collapsed": true
   },
   "outputs": [],
   "source": [
    "# Caserati representation d x T\n",
    "dims = m_rig.shape\n",
    "m_rig_r= m_rig.reshape((np.prod(dims[:2]),dims[2]),order='F')\n",
    "\n",
    "# get rid of trend\n",
    "if False:\n",
    "    Y_detr, offset = tools.remove_trend(m_rig_r);\n",
    "    Y_detr = Y_detr.reshape(dims,order=\"F\")"
   ]
  },
  {
   "cell_type": "code",
   "execution_count": null,
   "metadata": {
    "collapsed": true
   },
   "outputs": [],
   "source": [
    "plt.plot(m_rig[120,30,:])"
   ]
  },
  {
   "cell_type": "code",
   "execution_count": 11,
   "metadata": {
    "collapsed": true
   },
   "outputs": [],
   "source": [
    "########## normalize each pixel by the estimated noise\n",
    "mean_ = Y_detr.mean(axis=2,keepdims=True);\n",
    "sn_ = sup.noise_estimator(Y_detr);\n",
    "sn_ = sn_.reshape(dims[0],dims[1],1)\n",
    "Y_norm = (Y_detr - mean_)/sn_;"
   ]
  },
  {
   "cell_type": "code",
   "execution_count": null,
   "metadata": {
    "collapsed": true
   },
   "outputs": [],
   "source": [
    "Y_wf, _ = fdata.spatial_filter_image(Y_norm);"
   ]
  },
  {
   "cell_type": "markdown",
   "metadata": {},
   "source": [
    "## plot results and make movies"
   ]
  },
  {
   "cell_type": "code",
   "execution_count": 664,
   "metadata": {
    "collapsed": true
   },
   "outputs": [],
   "source": [
    "Cno = sup.local_correlations_fft(m_rig);\n",
    "Cnh = sup.local_correlations_fft(Y_norm);\n",
    "Cnw = sup.local_correlations_fft(Y_wf);"
   ]
  },
  {
   "cell_type": "code",
   "execution_count": null,
   "metadata": {
    "collapsed": true
   },
   "outputs": [],
   "source": [
    "########### check correlation image ######################\n",
    "fig = plt.figure(figsize=(48,24))\n",
    "ax1 = plt.subplot(3,1,1)\n",
    "sup.show_img(ax1, Cno);\n",
    "ax1.set(title=\"Local mean correlation for raw data\")\n",
    "ax1.title.set_fontsize(15)\n",
    "ax1.title.set_fontweight(\"bold\")\n",
    "ax2 = plt.subplot(3,1,2)\n",
    "sup.show_img(ax2, Cnh);\n",
    "ax2.set(title=\"Local mean correlation for HPF data\")\n",
    "ax2.title.set_fontsize(15)\n",
    "ax2.title.set_fontweight(\"bold\")\n",
    "ax3 = plt.subplot(3,1,3)\n",
    "sup.show_img(ax3, Cnw);\n",
    "ax3.set(title=\"Local mean correlation for wiener filter data\")\n",
    "ax3.title.set_fontsize(15)\n",
    "ax3.title.set_fontweight(\"bold\")\n",
    "plt.tight_layout();\n",
    "fig.savefig(out_dir + \"raw_HPF_WF_corr_compare.pdf\")"
   ]
  },
  {
   "cell_type": "code",
   "execution_count": 680,
   "metadata": {
    "collapsed": true
   },
   "outputs": [],
   "source": [
    "################ compare movie #########################\n",
    "raw_1 = m_orig.T;#([2,0,1]);30000\n",
    "rig_1 = m_rig.T;#30000\n",
    "hpf_1 = Y_norm.T;\n",
    "els_1 = Y_wf1.T;\n",
    "raw_1 = raw_1 - raw_1.min(axis=0, keepdims=True);\n",
    "rig_1 = rig_1 - rig_1.min(axis=0, keepdims=True);\n",
    "els_1 = els_1 - els_1.min(axis=0, keepdims=True);\n",
    "hpf_1 = hpf_1 - hpf_1.min(axis=0, keepdims=True);\n",
    "raw_1 =(raw_1 - raw_1.min())/(raw_1.max() - raw_1.min())*255;\n",
    "rig_1 =(rig_1 - rig_1.min())/(rig_1.max() - rig_1.min())*255;\n",
    "els_1 =(els_1 - els_1.min())/(els_1.max() - els_1.min())*255;\n",
    "hpf_1 =(hpf_1 - hpf_1.min())/(hpf_1.max() - hpf_1.min())*255;"
   ]
  },
  {
   "cell_type": "code",
   "execution_count": null,
   "metadata": {
    "collapsed": true
   },
   "outputs": [],
   "source": [
    "plt.hist(raw_1.ravel());\n",
    "raw_1 = np.clip(raw_1,0,25);"
   ]
  },
  {
   "cell_type": "code",
   "execution_count": null,
   "metadata": {
    "collapsed": true
   },
   "outputs": [],
   "source": [
    "plt.hist(rig_1.ravel());\n",
    "rig_1 = np.clip(rig_1,0,25);"
   ]
  },
  {
   "cell_type": "code",
   "execution_count": null,
   "metadata": {
    "collapsed": true
   },
   "outputs": [],
   "source": [
    "plt.hist(els_1.ravel());\n",
    "els_1 = np.clip(els_1,0,25);"
   ]
  },
  {
   "cell_type": "code",
   "execution_count": null,
   "metadata": {
    "collapsed": true
   },
   "outputs": [],
   "source": [
    "plt.hist(hpf_1.ravel());\n",
    "hpf_1 = np.clip(hpf_1,0,50);"
   ]
  },
  {
   "cell_type": "code",
   "execution_count": 685,
   "metadata": {
    "collapsed": true
   },
   "outputs": [],
   "source": [
    "raw_1 =(raw_1 - raw_1.min())/(raw_1.max() - raw_1.min())*255;\n",
    "rig_1 =(rig_1 - rig_1.min())/(rig_1.max() - rig_1.min())*255;\n",
    "els_1 =(els_1 - els_1.min())/(els_1.max() - els_1.min())*255;\n",
    "hpf_1 =(hpf_1 - hpf_1.min())/(hpf_1.max() - hpf_1.min())*255;"
   ]
  },
  {
   "cell_type": "code",
   "execution_count": 686,
   "metadata": {
    "collapsed": true
   },
   "outputs": [],
   "source": [
    "Frame=np.concatenate([raw_1,rig_1,hpf_1,els_1],axis=2);"
   ]
  },
  {
   "cell_type": "code",
   "execution_count": 687,
   "metadata": {
    "collapsed": true,
    "scrolled": true
   },
   "outputs": [],
   "source": [
    "import skvideo.io\n",
    "outputdata = Frame\n",
    "writer = skvideo.io.FFmpegWriter(out_dir + \"raw_rig_hpf_els.mp4\",inputdict={'-r': '20'})\n",
    "for i in range(564):\n",
    "    writer.writeFrame(outputdata[i, :, :])\n",
    "writer.close()"
   ]
  },
  {
   "cell_type": "code",
   "execution_count": null,
   "metadata": {
    "collapsed": true
   },
   "outputs": [],
   "source": [
    "import matplotlib.animation as animation\n",
    "\n",
    "fig = plt.figure(figsize=(12,16));\n",
    "ax1 = plt.subplot(1,4,1)\n",
    "#ax1 = fig.add_subplot(111)\n",
    "ax1.set(title=\"raw data\")\n",
    "ax1.title.set_fontsize(15)\n",
    "ax1.title.set_fontweight(\"bold\")\n",
    "ax1.set_xticks([])\n",
    "ax1.set_yticks([])\n",
    "ax2 = plt.subplot(1,4,2)\n",
    "ax2.set(title=\"MC\")\n",
    "ax2.title.set_fontsize(15)\n",
    "ax2.title.set_fontweight(\"bold\")\n",
    "ax2.set_xticks([])\n",
    "ax2.set_yticks([])\n",
    "ax3 = plt.subplot(1,4,3)\n",
    "#ax1 = fig.add_subplot(111)\n",
    "ax3.set(title=\"HPF\")\n",
    "ax3.title.set_fontsize(15)\n",
    "ax3.title.set_fontweight(\"bold\")\n",
    "ax3.set_xticks([])\n",
    "ax3.set_yticks([])\n",
    "ax4 = plt.subplot(1,4,4)\n",
    "ax4.set(title=\"WF\")\n",
    "ax4.title.set_fontsize(15)\n",
    "ax4.title.set_fontweight(\"bold\")\n",
    "ax4.set_xticks([])\n",
    "ax4.set_yticks([])\n",
    "plt.tight_layout()\n",
    "\n",
    "img1 = ax1.imshow(raw_1[0,:,:],vmin=raw_1.min(),vmax=raw_1.max(),cmap=\"Greys_r\");\n",
    "img2 = ax2.imshow(rig_1[0,:,:],vmin=rig_1.min(),vmax=rig_1.max(),cmap=\"Greys_r\");\n",
    "img3 = ax3.imshow(hpf_1[0,:,:],vmin=hpf_1.min(),vmax=hpf_1.max(),cmap=\"Greys_r\");    \n",
    "img4 = ax4.imshow(els_1[0,:,:],vmin=els_1.min(),vmax=els_1.max(),cmap=\"Greys_r\");    \n",
    "\n",
    "def update(i):\n",
    "    img1.set_data(raw_1[i+1,:,:]);\n",
    "    img2.set_data(rig_1[i+1,:,:])\n",
    "    img3.set_data(hpf_1[i+1,:,:])\n",
    "    img4.set_data(els_1[i+1,:,:])\n",
    "    return [img1,img2,img3,img4]\n",
    "\n",
    "ani = animation.FuncAnimation(fig, update, frames=564-1, blit=True)\n",
    "ani.save(out_dir + 'raw_mc_hpf_wf_label.mp4', fps=20, metadata={'artist':'zhd'})"
   ]
  },
  {
   "cell_type": "code",
   "execution_count": 13,
   "metadata": {
    "collapsed": true
   },
   "outputs": [],
   "source": [
    "Y_wf1 = Y_wf*sn_ + mean_;\n",
    "Y_wf1 = Y_wf1 - Y_wf1.min(axis=2,keepdims=True)"
   ]
  },
  {
   "cell_type": "code",
   "execution_count": 15,
   "metadata": {
    "collapsed": true
   },
   "outputs": [],
   "source": [
    "np.save(data_dir + fname[0][:-4]+ \"_Y_wf1.npy\", Y_wf1)"
   ]
  },
  {
   "cell_type": "markdown",
   "metadata": {},
   "source": [
    "# superpixel analysis"
   ]
  },
  {
   "cell_type": "code",
   "execution_count": 13,
   "metadata": {
    "collapsed": true,
    "scrolled": true
   },
   "outputs": [],
   "source": [
    "Y_wf1 = np.load(data_dir + fname[0][:-4]+ \"_Y_wf1.npy\") ## data has to be non-negative"
   ]
  },
  {
   "cell_type": "code",
   "execution_count": 14,
   "metadata": {
    "collapsed": true
   },
   "outputs": [],
   "source": [
    "Y_wf1 = Y_wf1[:,30:-30,:] ## cut wiener filtered data because in this region there's no neurons"
   ]
  },
  {
   "cell_type": "code",
   "execution_count": null,
   "metadata": {
    "collapsed": true
   },
   "outputs": [],
   "source": [
    "start=time.time()\n",
    "rlt2=sup.axon_pipeline(Y_wf1, cut_off_point=[0.9,0.8], length_cut=[15,10], th=[2,1], pass_num=2, \n",
    "                    residual_cut = [0.6,0.6], corr_th_fix=0.4, max_allow_neuron_size=0.3, \n",
    "                    merge_corr_thr=0.6, merge_overlap_thr=0.6, num_plane=1, patch_size=[100,100],\n",
    "                    plot_en=False, TF=True, fudge_factor=1, text=True, bg=False,\n",
    "                    max_iter=35, max_iter_fin=65, update_after=4)\n",
    "print(time.time()-start)"
   ]
  },
  {
   "cell_type": "markdown",
   "metadata": {},
   "source": [
    "## plot results"
   ]
  },
  {
   "cell_type": "code",
   "execution_count": 28,
   "metadata": {
    "collapsed": true
   },
   "outputs": [],
   "source": [
    "dims = Y_wf1.shape"
   ]
  },
  {
   "cell_type": "code",
   "execution_count": 99,
   "metadata": {
    "collapsed": true
   },
   "outputs": [],
   "source": [
    "rltk = rlt2[\"fin_rlt\"].copy()"
   ]
  },
  {
   "cell_type": "code",
   "execution_count": 104,
   "metadata": {},
   "outputs": [
    {
     "data": {
      "text/plain": [
       "(140, 690, 302)"
      ]
     },
     "execution_count": 104,
     "metadata": {},
     "output_type": "execute_result"
    }
   ],
   "source": [
    "rltk[\"corr_img_all_r\"].shape"
   ]
  },
  {
   "cell_type": "code",
   "execution_count": 51,
   "metadata": {
    "collapsed": true
   },
   "outputs": [],
   "source": [
    "Ys = (np.matmul(rltk[\"a\"], rltk[\"c\"].T) + rltk[\"b\"]).reshape(dims,order=\"F\");"
   ]
  },
  {
   "cell_type": "code",
   "execution_count": 52,
   "metadata": {
    "collapsed": true
   },
   "outputs": [],
   "source": [
    "Ys_tf = (np.matmul(rltk[\"a\"], rltk[\"c_tf\"].T) + rltk[\"b\"]).reshape(dims,order=\"F\");\n",
    "Ys = (np.matmul(rltk[\"a\"], rltk[\"c\"].T) + rltk[\"b\"]).reshape(dims,order=\"F\");"
   ]
  },
  {
   "cell_type": "code",
   "execution_count": 72,
   "metadata": {
    "collapsed": true
   },
   "outputs": [],
   "source": [
    "Yo_1 = Y_wf1.T#transpose([2,0,1]);\n",
    "Ys_1 = Ys.T#transpose([2,0,1]);\n",
    "Ys_tf_1 = Ys_tf.T#transpose([2,0,1]);\n",
    "Rt_1 = Yo_1 - Ys_1;#Yd_1 - Yy_1; ## residual \n",
    "Yo_1 = Yo_1 - Yo_1.min(axis=0, keepdims=True);\n",
    "Ys_tf_1 = Ys_tf_1 - Ys_tf_1.min(axis=0, keepdims=True);\n",
    "Rt_1 = Rt_1 - Rt_1.min(axis=0, keepdims=True);"
   ]
  },
  {
   "cell_type": "code",
   "execution_count": 73,
   "metadata": {},
   "outputs": [
    {
     "data": {
      "text/plain": [
       "0.9211309432029817"
      ]
     },
     "execution_count": 73,
     "metadata": {},
     "output_type": "execute_result"
    }
   ],
   "source": [
    "scale1=(Ys_tf_1.max() - Ys_tf_1.min())/(Yo_1.max() - Yo_1.min())\n",
    "scale1"
   ]
  },
  {
   "cell_type": "code",
   "execution_count": 74,
   "metadata": {},
   "outputs": [
    {
     "data": {
      "text/plain": [
       "0.6592055190183381"
      ]
     },
     "execution_count": 74,
     "metadata": {},
     "output_type": "execute_result"
    }
   ],
   "source": [
    "scale2=(Rt_1.max() - Rt_1.min())/(Yo_1.max() - Yo_1.min())\n",
    "scale2"
   ]
  },
  {
   "cell_type": "code",
   "execution_count": 75,
   "metadata": {
    "collapsed": true
   },
   "outputs": [],
   "source": [
    "Ys_tf_1 = (Ys_tf_1 - Ys_tf_1.min())/(Ys_tf_1.max() - Ys_tf_1.min())*255*scale1;\n",
    "Rt_1 =(Rt_1 - Rt_1.min())/(Rt_1.max() - Rt_1.min())*255*scale2;\n",
    "Yo_1 = (Yo_1 - Yo_1.min())/(Yo_1.max() - Yo_1.min())*255;"
   ]
  },
  {
   "cell_type": "code",
   "execution_count": null,
   "metadata": {
    "collapsed": true
   },
   "outputs": [],
   "source": [
    "plt.hist(Yo_1.ravel())\n",
    "Yo_1 = np.clip(Yo_1,0,25)"
   ]
  },
  {
   "cell_type": "code",
   "execution_count": null,
   "metadata": {
    "collapsed": true
   },
   "outputs": [],
   "source": [
    "plt.hist(Ys_tf_1.ravel())\n",
    "Ys_tf_1 = np.clip(Ys_tf_1,0,25)"
   ]
  },
  {
   "cell_type": "code",
   "execution_count": null,
   "metadata": {
    "collapsed": true
   },
   "outputs": [],
   "source": [
    "plt.hist(Rt_1.ravel())\n",
    "#Rt_1 = np.clip(Rt_1,0,29)\n",
    "Rt_1 = np.clip(Rt_1,0,16)"
   ]
  },
  {
   "cell_type": "code",
   "execution_count": 79,
   "metadata": {
    "collapsed": true
   },
   "outputs": [],
   "source": [
    "Ys_tf_1 = (Ys_tf_1 - Ys_tf_1.min())/(Ys_tf_1.max() - Ys_tf_1.min())*255*scale1;\n",
    "Rt_1 =(Rt_1 - Rt_1.min())/(Rt_1.max() - Rt_1.min())*255*scale2;\n",
    "Yo_1 = (Yo_1 - Yo_1.min())/(Yo_1.max() - Yo_1.min())*255;"
   ]
  },
  {
   "cell_type": "code",
   "execution_count": 80,
   "metadata": {
    "collapsed": true
   },
   "outputs": [],
   "source": [
    "Frame=np.concatenate([Yo_1,Ys_tf_1,Rt_1],axis=2);"
   ]
  },
  {
   "cell_type": "code",
   "execution_count": 81,
   "metadata": {
    "collapsed": true,
    "scrolled": true
   },
   "outputs": [],
   "source": [
    "import skvideo.io\n",
    "outputdata = Frame\n",
    "writer = skvideo.io.FFmpegWriter(out_dir + \"wf_sig_res-2pass.mp4\",inputdict={'-r': '20'})\n",
    "for i in range(dims[2]):\n",
    "    writer.writeFrame(outputdata[i, :, :])\n",
    "writer.close()"
   ]
  },
  {
   "cell_type": "code",
   "execution_count": null,
   "metadata": {
    "collapsed": true
   },
   "outputs": [],
   "source": [
    "import matplotlib.animation as animation\n",
    "\n",
    "fig = plt.figure(figsize=(9,15));\n",
    "ax1 = plt.subplot(1,3,1)\n",
    "#ax1 = fig.add_subplot(111)\n",
    "ax1.set(title=\"HPF + WF data\")\n",
    "ax1.title.set_fontsize(15)\n",
    "ax1.title.set_fontweight(\"bold\")\n",
    "ax1.set_xticks([])\n",
    "ax1.set_yticks([])\n",
    "ax2 = plt.subplot(1,3,2)\n",
    "ax2.set(title=\"Signal\")\n",
    "ax2.title.set_fontsize(15)\n",
    "ax2.title.set_fontweight(\"bold\")\n",
    "ax2.set_xticks([])\n",
    "ax2.set_yticks([])\n",
    "ax3 = plt.subplot(1,3,3)\n",
    "#ax1 = fig.add_subplot(111)\n",
    "ax3.set(title=\"Residual\")\n",
    "ax3.title.set_fontsize(15)\n",
    "ax3.title.set_fontweight(\"bold\")\n",
    "ax3.set_xticks([])\n",
    "ax3.set_yticks([])\n",
    "plt.tight_layout()\n",
    "\n",
    "img1 = ax1.imshow(Yo_1[0,:,:],vmin=Yo_1.min(),vmax=Yo_1.max(),cmap=\"Greys_r\");\n",
    "img2 = ax2.imshow(Ys_tf_1[0,:,:],vmin=Ys_tf_1.min(),vmax=Ys_tf_1.min() + ((Ys_tf_1.max()-Ys_tf_1.min())/scale1),cmap=\"Greys_r\");\n",
    "img3 = ax3.imshow(Rt_1[0,:,:],vmin=Rt_1.min(),vmax=Rt_1.min() + ((Rt_1.max()-Rt_1.min())/scale2),cmap=\"Greys_r\");    \n",
    "\n",
    "def update(i):\n",
    "    img1.set_data(Yo_1[i+1,:,:]);\n",
    "    img2.set_data(Ys_tf_1[i+1,:,:])\n",
    "    img3.set_data(Rt_1[i+1,:,:])\n",
    "    return [img1,img2,img3]\n",
    "\n",
    "ani = animation.FuncAnimation(fig, update, frames=dims[2]-1, blit=True)\n",
    "ani.save(out_dir + 'wf_sig_res_label-2pass.mp4', fps=20, metadata={'artist':'zhd'})"
   ]
  },
  {
   "cell_type": "code",
   "execution_count": 88,
   "metadata": {},
   "outputs": [
    {
     "name": "stderr",
     "output_type": "stream",
     "text": [
      "IOPub data rate exceeded.\n",
      "The notebook server will temporarily stop sending output\n",
      "to the client in order to avoid crashing it.\n",
      "To change this limit, set the config variable\n",
      "`--NotebookApp.iopub_data_rate_limit`.\n"
     ]
    }
   ],
   "source": [
    "fig = sup.spatial_comp_plot(rltk[\"a\"][:,200:], rltk[\"corr_img_all_r\"][:,:,200:]);\n",
    "fig.savefig(out_dir + \"spatial_Yd_2pass-3.pdf\")\n",
    "#fig.savefig(out_dir + \"spatial_Yd_3pass_first-2.pdf\")"
   ]
  },
  {
   "cell_type": "code",
   "execution_count": 92,
   "metadata": {},
   "outputs": [
    {
     "name": "stderr",
     "output_type": "stream",
     "text": [
      "IOPub data rate exceeded.\n",
      "The notebook server will temporarily stop sending output\n",
      "to the client in order to avoid crashing it.\n",
      "To change this limit, set the config variable\n",
      "`--NotebookApp.iopub_data_rate_limit`.\n"
     ]
    }
   ],
   "source": [
    "fig = sup.temporal_compare_plot(rltk[\"c\"][:,:],rltk[\"c_tf\"][:,:]);\n",
    "#fig.savefig(out_dir + \"temp_orig.pdf\")\n",
    "fig.savefig(out_dir + \"temp_Yd_2pass.pdf\")"
   ]
  },
  {
   "cell_type": "code",
   "execution_count": null,
   "metadata": {
    "collapsed": true
   },
   "outputs": [],
   "source": []
  }
 ],
 "metadata": {
  "kernelspec": {
   "display_name": "Python 3",
   "language": "python",
   "name": "python3"
  },
  "language_info": {
   "codemirror_mode": {
    "name": "ipython",
    "version": 3
   },
   "file_extension": ".py",
   "mimetype": "text/x-python",
   "name": "python",
   "nbconvert_exporter": "python",
   "pygments_lexer": "ipython3",
   "version": "3.6.3"
  }
 },
 "nbformat": 4,
 "nbformat_minor": 2
}
