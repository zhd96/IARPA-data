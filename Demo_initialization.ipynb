{
 "cells": [
  {
   "cell_type": "code",
   "execution_count": 1,
   "metadata": {
    "collapsed": true
   },
   "outputs": [],
   "source": [
    "import os\n",
    "import sys\n",
    "import mmap\n",
    "import time\n",
    "\n",
    "import matplotlib.pyplot as plt\n",
    "%matplotlib inline\n",
    "import numpy as np\n",
    "import scipy.io\n",
    "import superpixel_analysis as sup\n",
    "%load_ext autoreload\n",
    "%autoreload 2"
   ]
  },
  {
   "cell_type": "code",
   "execution_count": 2,
   "metadata": {
    "collapsed": true
   },
   "outputs": [],
   "source": [
    "plt_dir = \"/data/home/dz2336/projects/naji_data/result/try1/\""
   ]
  },
  {
   "cell_type": "code",
   "execution_count": null,
   "metadata": {
    "collapsed": true
   },
   "outputs": [],
   "source": [
    "data = np.load(plt_dir + \"sample_data.npz\")"
   ]
  },
  {
   "cell_type": "code",
   "execution_count": 7,
   "metadata": {
    "collapsed": true
   },
   "outputs": [],
   "source": [
    "Yd4r = data[\"Yd4r\"];\n",
    "U = data[\"U\"];\n",
    "V = data[\"V\"];"
   ]
  },
  {
   "cell_type": "code",
   "execution_count": 18,
   "metadata": {},
   "outputs": [
    {
     "name": "stdout",
     "output_type": "stream",
     "text": [
      "find superpixels!\n",
      "find pure superpixels!\n",
      "prepare iteration!\n"
     ]
    }
   ],
   "source": [
    "rlt = sup.extract_pure_and_superpixels(Yd4r, cut_off_point=0.95, length_cut=15, th=2, \n",
    "                             residual_cut = 0.6, num_plane=1, patch_size=[100,100], plot_en=False, text=False)"
   ]
  },
  {
   "cell_type": "code",
   "execution_count": 19,
   "metadata": {
    "collapsed": true
   },
   "outputs": [],
   "source": [
    "np.save(plt_dir + \"sample_data_rlt.npy\",rlt)"
   ]
  },
  {
   "cell_type": "code",
   "execution_count": null,
   "metadata": {
    "collapsed": true
   },
   "outputs": [],
   "source": [
    "# full pipeline\n",
    "rlt2=sup.axon_pipeline(Yd4r, U, V, cut_off_point=[0.95,0.9], length_cut=[15,10], th=[2,1], pass_num=1,\n",
    "                    residual_cut = [0.6,0.6], corr_th_fix=0.31, max_allow_neuron_size=0.3,\n",
    "                    merge_corr_thr=0.6, merge_overlap_thr=0.6, num_plane=1, patch_size=[100,100],\n",
    "                    plot_en=False, TF=True, fudge_factor=1, text=True, bg=False,\n",
    "                    max_iter=35, max_iter_fin=50, update_after=4)"
   ]
  }
 ],
 "metadata": {
  "kernelspec": {
   "display_name": "Python 3",
   "language": "python",
   "name": "python3"
  },
  "language_info": {
   "codemirror_mode": {
    "name": "ipython",
    "version": 3
   },
   "file_extension": ".py",
   "mimetype": "text/x-python",
   "name": "python",
   "nbconvert_exporter": "python",
   "pygments_lexer": "ipython3",
   "version": "3.6.3"
  }
 },
 "nbformat": 4,
 "nbformat_minor": 2
}
